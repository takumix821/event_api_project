{
 "cells": [
  {
   "cell_type": "code",
   "execution_count": 1,
   "metadata": {},
   "outputs": [],
   "source": [
    "import pymongo\n",
    "from bson.json_util import dumps, loads \n",
    "import pandas as pd\n",
    "import numpy as np\n",
    "from datetime import datetime\n",
    "import os.path\n",
    "\n",
    "# gcalendar api\n",
    "from google.auth.transport.requests import Request\n",
    "from google.oauth2.credentials import Credentials\n",
    "from google.oauth2 import service_account\n",
    "from google_auth_oauthlib.flow import InstalledAppFlow\n",
    "from googleapiclient.discovery import build\n",
    "from googleapiclient.errors import HttpError\n"
   ]
  },
  {
   "cell_type": "code",
   "execution_count": 2,
   "metadata": {},
   "outputs": [],
   "source": [
    "path = '../event_site_project_access/mongodb_access.txt'\n",
    "f = open(path, 'r')\n",
    "mongo_access = f.read()\n",
    "f.close()"
   ]
  },
  {
   "cell_type": "markdown",
   "metadata": {},
   "source": [
    "#### Add an event to MongoDB"
   ]
  },
  {
   "cell_type": "code",
   "execution_count": 11,
   "metadata": {},
   "outputs": [],
   "source": [
    "# pymongo setting\n",
    "path = '../event_site_project_access/mongodb_access.txt'\n",
    "f = open(path, 'r')\n",
    "mongo_access = f.read()\n",
    "f.close()\n",
    "client = pymongo.MongoClient(mongo_access)\n",
    "\n",
    "db = client['event_site']\n",
    "# event_info_collection\n",
    "event_info_collection = db['event_information']\n",
    "\n",
    "# event_info_collection\n",
    "space_info_collection = db['space_information']\n"
   ]
  },
  {
   "cell_type": "code",
   "execution_count": 3,
   "metadata": {},
   "outputs": [],
   "source": [
    "# gcalendar setting\n",
    "\n",
    "# If modifying these scopes, delete the file token.json.\n",
    "SCOPES = ['https://www.googleapis.com/auth/calendar']\n",
    "'''\n",
    "creds = None\n",
    "# The file token.json stores the user's access and refresh tokens, and is\n",
    "# created automatically when the authorization flow completes for the first\n",
    "# time.\n",
    "if os.path.exists('../event_site_project_access/token.json'):\n",
    "    creds = Credentials.from_authorized_user_file('../event_site_project_access/token.json', SCOPES)\n",
    "# If there are no (valid) credentials available, let the user log in.\n",
    "if not creds or not creds.valid:\n",
    "    #if creds and creds.expired and creds.refresh_token:\n",
    "    #    creds.refresh(Request())\n",
    "    #else:\n",
    "    flow = InstalledAppFlow.from_client_secrets_file('../event_site_project_access/credentials.json', SCOPES)\n",
    "    creds = flow.run_local_server(port=0)\n",
    "    # Save the credentials for the next run\n",
    "    with open('../event_site_project_access/token.json', 'w') as token:\n",
    "        token.write(creds.to_json())\n",
    "\n",
    "try:\n",
    "    service = build('calendar', 'v3', credentials = creds)\n",
    "except HttpError as error:\n",
    "    print('An error occurred: %s' % error)\n",
    "'''\n",
    "\n",
    "creds = service_account.Credentials.from_service_account_file(\n",
    "    '../event_site_project_access/service_account_credentials.json',\n",
    "    scopes = SCOPES\n",
    ")\n",
    "\n",
    "try:\n",
    "    service = build('calendar', 'v3', credentials = creds)\n",
    "except HttpError as error:\n",
    "    print('An error occurred: %s' % error)\n",
    "\n",
    "# 需提供權限給 service account"
   ]
  },
  {
   "cell_type": "code",
   "execution_count": 4,
   "metadata": {},
   "outputs": [],
   "source": [
    "service.close()"
   ]
  },
  {
   "cell_type": "code",
   "execution_count": 4,
   "metadata": {},
   "outputs": [],
   "source": [
    "calendarId = '62c2d3e83153931e66c3b91b3edcecad88eb8fa2c0df6f8a1fa74d6d765c16be@group.calendar.google.com'"
   ]
  },
  {
   "cell_type": "code",
   "execution_count": null,
   "metadata": {},
   "outputs": [],
   "source": [
    "# https://developers.google.com/calendar/api/v3/reference/events/get"
   ]
  },
  {
   "cell_type": "code",
   "execution_count": null,
   "metadata": {},
   "outputs": [],
   "source": [
    "def build_event(**kwargs): \n",
    "    '''\n",
    "    Input the collection and kwargs to building events in the target DB and google calendar. \n",
    "    - kwargs: event information dictionary which includes event_name, event_bgn_time, event_end_time, event_location, event_host\n",
    "    '''\n",
    "    # create a dict to put event info into google calendar\n",
    "    gevent_info = {\n",
    "    'summary': kwargs['event_name'], \n",
    "    'location': kwargs['event_location'], \n",
    "    'start': {\n",
    "        'dateTime': kwargs['event_bgn_time'].isoformat('T'), \n",
    "        'timeZone': 'Asia/Taipei', \n",
    "    }, \n",
    "    'end': {\n",
    "        'dateTime': kwargs['event_end_time'].isoformat('T'), \n",
    "        'timeZone': 'Asia/Taipei', \n",
    "    }, \n",
    "    'reminders': {\n",
    "        'useDefault': False, \n",
    "        'overrides': [\n",
    "        {'method': 'email', 'minutes': 24 * 60},\n",
    "        {'method': 'popup', 'minutes': 10},\n",
    "        ],\n",
    "    }, \n",
    "    }\n",
    "    event = service.events().insert(calendarId = calendarId, body = gevent_info).execute()\n",
    "    print('Event created: %s' % (event.get('htmlLink')), ', ', 'id: %s' % (event.get('id')))\n",
    "\n",
    "    gcalendar_id = event.get('id')\n",
    "\n",
    "    # create a dict to put event info into DB\n",
    "    try: \n",
    "        max_event_id = event_info_collection.find_one(sort = [('event_id', -1)])['event_id']\n",
    "    except:\n",
    "        max_event_id = 0\n",
    "    info = {'event_id': max_event_id + 1, 'gcalendar_id': gcalendar_id}\n",
    "    for k, v in kwargs.items(): \n",
    "        info[k] = v\n",
    "    info['updt_date'] = datetime.now()\n",
    "    event_info_collection.insert_many([info])\n",
    "    print('Event inserted to mongodb. ')"
   ]
  },
  {
   "cell_type": "code",
   "execution_count": 25,
   "metadata": {},
   "outputs": [],
   "source": [
    "def build_event(**kwargs): \n",
    "    '''\n",
    "    Input the collection and kwargs to building events in the target DB and google calendar. \n",
    "    - kwargs: event information dictionary which includes event_name, event_bgn_time, event_end_time, event_location, event_host\n",
    "    '''\n",
    "    # create a dict to put event info into google calendar\n",
    "    gevent_info = {\n",
    "    'summary': kwargs['event_name'], \n",
    "    'location': kwargs['event_location'], \n",
    "    'start': {\n",
    "        'dateTime': kwargs['event_bgn_time'].isoformat('T'), \n",
    "        'timeZone': 'Asia/Taipei', \n",
    "    }, \n",
    "    'end': {\n",
    "        'dateTime': kwargs['event_end_time'].isoformat('T'), \n",
    "        'timeZone': 'Asia/Taipei', \n",
    "    }, \n",
    "    'reminders': {\n",
    "        'useDefault': False, \n",
    "        'overrides': [\n",
    "        {'method': 'email', 'minutes': 24 * 60},\n",
    "        {'method': 'popup', 'minutes': 10},\n",
    "        ],\n",
    "    }, \n",
    "    }\n",
    "    event = service.events().insert(calendarId = calendarId, body = gevent_info).execute()\n",
    "    print('Event created: %s' % (event.get('htmlLink')), ', ', 'id: %s' % (event.get('id')))\n",
    "\n",
    "    gcalendar_id = event.get('id')\n",
    "\n",
    "    # create a dict to put event info into DB\n",
    "    try: \n",
    "        max_event_id = event_info_collection.find_one(sort = [('event_id', -1)])['event_id']\n",
    "    except:\n",
    "        max_event_id = 0\n",
    "    event_id_allocate = max_event_id + 1\n",
    "    info = {'event_id': event_id_allocate, 'gcalendar_id': gcalendar_id}\n",
    "    for k, v in kwargs.items(): \n",
    "        info[k] = v\n",
    "    info['updt_date'] = datetime.now()\n",
    "    event_info_collection.insert_many([info])\n",
    "    print('Event inserted to mongodb. ')\n",
    "\n",
    "    # event_tag\n",
    "    if kwargs.get('tag'):\n",
    "        for tag in kwargs['tag']:\n",
    "            if event_tag_collection.find({'tag': tag}).distinct('event_id'):\n",
    "                event_tag_collection.update_one({'tag': tag}, {'$push': {'event_id': event_id_allocate}})\n",
    "            else:\n",
    "                event_tag_collection.insert_one({'tag': tag, 'event_id': [event_id_allocate]})"
   ]
  },
  {
   "cell_type": "code",
   "execution_count": 71,
   "metadata": {},
   "outputs": [
    {
     "name": "stdout",
     "output_type": "stream",
     "text": [
      "Event created: https://www.google.com/calendar/event?eid=OGE3MnVla3ZrYmpqNzRxcXQ2ZTA5OTRjNTAgNjJjMmQzZTgzMTUzOTMxZTY2YzNiOTFiM2VkY2VjYWQ4OGViOGZhMmMwZGY2ZjhhMWZhNzRkNmQ3NjVjMTZiZUBn ,  id: 8a72uekvkbjj74qqt6e0994c50\n",
      "Event inserted to mongodb. \n"
     ]
    }
   ],
   "source": [
    "event_name = 'ABC workshop'\n",
    "event_bgn_time = datetime.fromisoformat('2023-10-07T12:00:00') \n",
    "event_end_time = datetime.fromisoformat('2023-10-07T14:00:00') \n",
    "event_location = 'A01'\n",
    "event_host = 's711033123@gm.ntpu.edu.tw'\n",
    "\n",
    "event_info = {\n",
    "    'event_name': event_name, \n",
    "    'event_bgn_time': event_bgn_time, \n",
    "    'event_end_time': event_end_time, \n",
    "    'event_location': event_location, \n",
    "    'event_host': event_host, \n",
    "}\n",
    "\n",
    "build_event(**event_info)"
   ]
  },
  {
   "cell_type": "code",
   "execution_count": 33,
   "metadata": {},
   "outputs": [
    {
     "name": "stdout",
     "output_type": "stream",
     "text": [
      "Event created: https://www.google.com/calendar/event?eid=cGw1aGtzNXE3cDJwMDgyY2x1bDExZTllNnMgNjJjMmQzZTgzMTUzOTMxZTY2YzNiOTFiM2VkY2VjYWQ4OGViOGZhMmMwZGY2ZjhhMWZhNzRkNmQ3NjVjMTZiZUBn ,  id: pl5hks5q7p2p082clul11e9e6s\n",
      "Event inserted to mongodb. \n"
     ]
    }
   ],
   "source": [
    "event_name = 'K monthly meeting'\n",
    "event_bgn_time = datetime.fromisoformat('2024-02-08T15:00:00') \n",
    "event_end_time = datetime.fromisoformat('2024-02-08T16:00:00') \n",
    "event_location = 'A05'\n",
    "event_host = 's711033123@gm.ntpu.edu.tw'\n",
    "\n",
    "event_info = {\n",
    "    'event_name': event_name, \n",
    "    'event_bgn_time': event_bgn_time, \n",
    "    'event_end_time': event_end_time, \n",
    "    'event_location': event_location, \n",
    "    'event_host': event_host, \n",
    "}\n",
    "\n",
    "build_event(**event_info)"
   ]
  },
  {
   "cell_type": "code",
   "execution_count": 34,
   "metadata": {},
   "outputs": [
    {
     "name": "stdout",
     "output_type": "stream",
     "text": [
      "Event created: https://www.google.com/calendar/event?eid=aDA2YjVyNGc3YTk5Y2hiZ3FtbjU1Y2tlNnMgNjJjMmQzZTgzMTUzOTMxZTY2YzNiOTFiM2VkY2VjYWQ4OGViOGZhMmMwZGY2ZjhhMWZhNzRkNmQ3NjVjMTZiZUBn ,  id: h06b5r4g7a99chbgqmn55cke6s\n",
      "Event inserted to mongodb. \n"
     ]
    }
   ],
   "source": [
    "event_name = 'Happy year-end party!!'\n",
    "event_bgn_time = datetime.fromisoformat('2024-02-09T18:00:00') \n",
    "event_end_time = datetime.fromisoformat('2024-02-09T21:00:00') \n",
    "event_location = 'B01'\n",
    "event_host = 's711033123@gm.ntpu.edu.tw'\n",
    "\n",
    "event_info = {\n",
    "    'event_name': event_name, \n",
    "    'event_bgn_time': event_bgn_time, \n",
    "    'event_end_time': event_end_time, \n",
    "    'event_location': event_location, \n",
    "    'event_host': event_host, \n",
    "}\n",
    "\n",
    "build_event(**event_info)"
   ]
  },
  {
   "cell_type": "code",
   "execution_count": 38,
   "metadata": {},
   "outputs": [
    {
     "name": "stdout",
     "output_type": "stream",
     "text": [
      "Event created: https://www.google.com/calendar/event?eid=MzllaG9hMDljbmRzbW05NHM0bjBvaWFtdDQgNjJjMmQzZTgzMTUzOTMxZTY2YzNiOTFiM2VkY2VjYWQ4OGViOGZhMmMwZGY2ZjhhMWZhNzRkNmQ3NjVjMTZiZUBn ,  id: 39ehoa09cndsmm94s4n0oiamt4\n",
      "Event inserted to mongodb. \n"
     ]
    }
   ],
   "source": [
    "event_name = 'MM employee training'\n",
    "event_bgn_time = datetime.fromisoformat('2024-02-12T09:00:00') \n",
    "event_end_time = datetime.fromisoformat('2024-02-12T17:00:00') \n",
    "event_location = 'B02'\n",
    "event_host = 's711033123@gm.ntpu.edu.tw'\n",
    "\n",
    "event_info = {\n",
    "    'event_name': event_name, \n",
    "    'event_bgn_time': event_bgn_time, \n",
    "    'event_end_time': event_end_time, \n",
    "    'event_location': event_location, \n",
    "    'event_host': event_host, \n",
    "}\n",
    "\n",
    "build_event(**event_info)"
   ]
  },
  {
   "cell_type": "markdown",
   "metadata": {},
   "source": [
    "#### shows event in days range"
   ]
  },
  {
   "cell_type": "code",
   "execution_count": 68,
   "metadata": {},
   "outputs": [],
   "source": [
    "range_bgn_time = datetime(2023, 10, 1, 0) \n",
    "range_end_time = datetime(2023, 10, 7, 0)\n",
    "\n",
    "range_event = list(event_info_collection.find({'$and': [{\n",
    "    'event_end_time': {'$gt': range_bgn_time}, \n",
    "    'event_bgn_time': {'$lt': range_end_time}\n",
    "    }]}))\n"
   ]
  },
  {
   "cell_type": "code",
   "execution_count": 71,
   "metadata": {},
   "outputs": [
    {
     "data": {
      "text/plain": [
       "'[{\"_id\": {\"$oid\": \"6522c938f742e74f7c193998\"}, \"event_id\": 2, \"gcalendar_id\": \"65s73bi8fomivv4aok5rpqa4n0\", \"event_name\": \"GEM team party\", \"event_bgn_time\": {\"$date\": 1696615200000}, \"event_end_time\": {\"$date\": 1696626000000}, \"event_location\": \"A01\", \"event_host\": \"s711033123@gm.ntpu.edu.tw\", \"updt_date\": {\"$date\": 1696807352727}}]'"
      ]
     },
     "execution_count": 71,
     "metadata": {},
     "output_type": "execute_result"
    }
   ],
   "source": [
    "dumps(range_event)"
   ]
  },
  {
   "cell_type": "markdown",
   "metadata": {},
   "source": [
    "#### 邀請使用者參加活動(add attendees)"
   ]
  },
  {
   "cell_type": "code",
   "execution_count": 83,
   "metadata": {},
   "outputs": [],
   "source": [
    "# https://developers.google.com/calendar/api/concepts/inviting-attendees-to-events?hl=zh-tw\n",
    "# https://developers.google.com/calendar/api/v3/reference/events/update\n",
    "\n",
    "def add_attendees(gcalendar_id, attendee_email):\n",
    "    # get the target event in google calendar\n",
    "    event = service.events().get(calendarId = calendarId, eventId = gcalendar_id).execute()\n",
    "\n",
    "    # get the current attendees list and add new attendee\n",
    "    try:\n",
    "        attendees_list = event['attendees']\n",
    "    except: \n",
    "        attendees_list = []\n",
    "    attendees_list.append({'email': attendee_email})\n",
    "\n",
    "    # update the attendees list\n",
    "    event['attendees'] = attendees_list\n",
    "    updated_event = service.events().update(calendarId = calendarId, eventId = event['id'], body = event).execute()\n",
    "\n",
    "    # print the new attendees list\n",
    "    get_updated_event = service.events().get(calendarId = calendarId, eventId = event['id']).execute()\n",
    "    print('Update attendees, new attendees list became ', get_updated_event['attendees'])"
   ]
  },
  {
   "cell_type": "code",
   "execution_count": 87,
   "metadata": {},
   "outputs": [
    {
     "name": "stdout",
     "output_type": "stream",
     "text": [
      "Update attendees, new attendees list became  [{'email': 'chaoyunshan0@gmail.com', 'responseStatus': 'needsAction'}, {'email': 's711033123@gm.ntpu.edu.tw', 'responseStatus': 'needsAction'}]\n"
     ]
    }
   ],
   "source": [
    "target_event = event_info_collection.find_one({'event_id': 1})\n",
    "gcalendar_id = target_event['gcalendar_id']\n",
    "\n",
    "add_attendees(gcalendar_id, 'chaoyunshan0@gmail.com')"
   ]
  },
  {
   "cell_type": "code",
   "execution_count": 88,
   "metadata": {},
   "outputs": [
    {
     "name": "stdout",
     "output_type": "stream",
     "text": [
      "Update attendees, new attendees list became  [{'email': 'chaoyunshan0@gmail.com', 'responseStatus': 'needsAction'}, {'email': 's711033123@gm.ntpu.edu.tw', 'responseStatus': 'needsAction'}]\n"
     ]
    }
   ],
   "source": [
    "target_event = event_info_collection.find_one({'event_id': 1})\n",
    "gcalendar_id = target_event['gcalendar_id']\n",
    "\n",
    "add_attendees(gcalendar_id, 's711033123@gm.ntpu.edu.tw')"
   ]
  },
  {
   "cell_type": "code",
   "execution_count": 90,
   "metadata": {},
   "outputs": [
    {
     "data": {
      "text/plain": [
       "2"
      ]
     },
     "execution_count": 90,
     "metadata": {},
     "output_type": "execute_result"
    }
   ],
   "source": [
    "# list out all event in a calendar\n",
    "page_token = None\n",
    "ans = service.events().list(calendarId = calendarId, pageToken = page_token).execute()\n",
    "len(ans['items'])"
   ]
  },
  {
   "cell_type": "code",
   "execution_count": null,
   "metadata": {},
   "outputs": [],
   "source": []
  },
  {
   "cell_type": "markdown",
   "metadata": {},
   "source": [
    "#### 參加活動"
   ]
  },
  {
   "cell_type": "code",
   "execution_count": null,
   "metadata": {},
   "outputs": [],
   "source": [
    "attendee_name = 'Vivian Shang'\n",
    "attendee_email = 'alionking821@gmail.com'\n",
    "\n",
    "# add attendee\n",
    "\n",
    "# add attendance data into mongodb"
   ]
  },
  {
   "cell_type": "code",
   "execution_count": null,
   "metadata": {},
   "outputs": [],
   "source": []
  },
  {
   "cell_type": "code",
   "execution_count": null,
   "metadata": {},
   "outputs": [],
   "source": []
  },
  {
   "cell_type": "markdown",
   "metadata": {},
   "source": [
    "### 建立場地"
   ]
  },
  {
   "cell_type": "code",
   "execution_count": 10,
   "metadata": {},
   "outputs": [],
   "source": [
    "def build_space(**kwargs): \n",
    "    '''\n",
    "    Input the collection and kwargs to building events space in the target DB. \n",
    "    - kwargs: space_name, space_capacity, type\n",
    "    '''\n",
    "    # create a dict to put info into DB\n",
    "    try: \n",
    "        max_space_id = space_info_collection.find_one(sort = [('space_id', -1)])['space_id']\n",
    "    except:\n",
    "        max_space_id = 0\n",
    "\n",
    "    space_info = {\n",
    "    'space_id': max_space_id + 1, \n",
    "    'space_name': kwargs['space_name'], \n",
    "    'space_capacity': kwargs['space_capacity'], \n",
    "    'type': kwargs['type'], \n",
    "    'updt_date': datetime.now(), \n",
    "    }\n",
    "\n",
    "    space_info_collection.insert_many([space_info])\n",
    "    print('Space info inserted to mongodb. ')\n"
   ]
  },
  {
   "cell_type": "code",
   "execution_count": 15,
   "metadata": {},
   "outputs": [
    {
     "name": "stdout",
     "output_type": "stream",
     "text": [
      "Space info inserted to mongodb. \n"
     ]
    }
   ],
   "source": [
    "space_info_example = {\n",
    "    'space_name': 'B01', \n",
    "    'space_capacity': '51-100', \n",
    "    'type': 'outdoor', \n",
    "}\n",
    "\n",
    "build_space(**space_info_example)"
   ]
  },
  {
   "cell_type": "code",
   "execution_count": null,
   "metadata": {},
   "outputs": [],
   "source": []
  },
  {
   "cell_type": "markdown",
   "metadata": {},
   "source": [
    "### 用space去篩活動"
   ]
  },
  {
   "cell_type": "code",
   "execution_count": 42,
   "metadata": {},
   "outputs": [
    {
     "name": "stdout",
     "output_type": "stream",
     "text": [
      "['A01', 'A05', 'B02']\n",
      "{'event_location': {'$in': ['A01', 'A05', 'B02']}}\n"
     ]
    }
   ],
   "source": [
    "filter_dict = {}\n",
    "\n",
    "capacity = '11-20'\n",
    "if capacity:\n",
    "    # 要怎麼用column of space data去篩column of event data??\n",
    "    space_name_lst = space_info_collection.find({'space_capacity': {'$eq': capacity}}).distinct('space_name')\n",
    "    print(space_name_lst)\n",
    "    filter_dict['event_location'] = {'$in': space_name_lst}\n",
    "    print(filter_dict)\n",
    "else:\n",
    "    capacity = None"
   ]
  },
  {
   "cell_type": "markdown",
   "metadata": {},
   "source": [
    "#### event_site , event_tag"
   ]
  },
  {
   "cell_type": "code",
   "execution_count": 9,
   "metadata": {},
   "outputs": [],
   "source": [
    "# event_tag\n",
    "event_tag_collection = db['event_tag']"
   ]
  },
  {
   "cell_type": "code",
   "execution_count": 10,
   "metadata": {},
   "outputs": [],
   "source": [
    "if event_tag_collection.find({'tag': {'$eq': 'meeting'}}).distinct('event_id'):\n",
    "    print('a')"
   ]
  },
  {
   "cell_type": "code",
   "execution_count": null,
   "metadata": {},
   "outputs": [],
   "source": []
  },
  {
   "cell_type": "code",
   "execution_count": 28,
   "metadata": {},
   "outputs": [
    {
     "name": "stdout",
     "output_type": "stream",
     "text": [
      "Event created: https://www.google.com/calendar/event?eid=M2kyY2ZiaGV1MW9rNG5rb2pncDZ1cGdsNWcgNjJjMmQzZTgzMTUzOTMxZTY2YzNiOTFiM2VkY2VjYWQ4OGViOGZhMmMwZGY2ZjhhMWZhNzRkNmQ3NjVjMTZiZUBn ,  id: 3i2cfbheu1ok4nkojgp6upgl5g\n",
      "Event inserted to mongodb. \n"
     ]
    }
   ],
   "source": [
    "event_name = 'KingN piano concert 2024 3/28 @TP'\n",
    "event_bgn_time = datetime.fromisoformat('2024-03-28T13:00:00') \n",
    "event_end_time = datetime.fromisoformat('2024-03-28T17:00:00') \n",
    "event_location = 'C02'\n",
    "event_host = 's711033123@gm.ntpu.edu.tw'\n",
    "event_tag = ['concert', 'piano', 'KingN']\n",
    "\n",
    "event_info = {\n",
    "    'event_name': event_name, \n",
    "    'event_bgn_time': event_bgn_time, \n",
    "    'event_end_time': event_end_time, \n",
    "    'event_location': event_location, \n",
    "    'event_host': event_host, \n",
    "    'tag': event_tag\n",
    "}\n",
    "\n",
    "build_event(**event_info)"
   ]
  },
  {
   "cell_type": "code",
   "execution_count": 29,
   "metadata": {},
   "outputs": [
    {
     "name": "stdout",
     "output_type": "stream",
     "text": [
      "Event created: https://www.google.com/calendar/event?eid=NjFpcHNsczV2dWE5c2huZjRrdmN0dHRqZ2MgNjJjMmQzZTgzMTUzOTMxZTY2YzNiOTFiM2VkY2VjYWQ4OGViOGZhMmMwZGY2ZjhhMWZhNzRkNmQ3NjVjMTZiZUBn ,  id: 61ipsls5vua9shnf4kvctttjgc\n",
      "Event inserted to mongodb. \n"
     ]
    }
   ],
   "source": [
    "event_name = 'KingN piano concert 2024 3/29 @TP'\n",
    "event_bgn_time = datetime.fromisoformat('2024-03-29T17:00:00') \n",
    "event_end_time = datetime.fromisoformat('2024-03-29T21:00:00') \n",
    "event_location = 'C02'\n",
    "event_host = 's711033123@gm.ntpu.edu.tw'\n",
    "event_tag = ['concert', 'piano', 'KingN']\n",
    "\n",
    "event_info = {\n",
    "    'event_name': event_name, \n",
    "    'event_bgn_time': event_bgn_time, \n",
    "    'event_end_time': event_end_time, \n",
    "    'event_location': event_location, \n",
    "    'event_host': event_host, \n",
    "    'tag': event_tag\n",
    "}\n",
    "\n",
    "build_event(**event_info)"
   ]
  },
  {
   "cell_type": "code",
   "execution_count": 30,
   "metadata": {},
   "outputs": [
    {
     "name": "stdout",
     "output_type": "stream",
     "text": [
      "Event created: https://www.google.com/calendar/event?eid=ZzAwbzVzbzI4ZG4zODRndGRtdGFvdm1kcXMgNjJjMmQzZTgzMTUzOTMxZTY2YzNiOTFiM2VkY2VjYWQ4OGViOGZhMmMwZGY2ZjhhMWZhNzRkNmQ3NjVjMTZiZUBn ,  id: g00o5so28dn384gtdmtaovmdqs\n",
      "Event inserted to mongodb. \n"
     ]
    }
   ],
   "source": [
    "event_name = 'KingN piano concert 2024 3/30 @TP - Finale'\n",
    "event_bgn_time = datetime.fromisoformat('2024-03-30T17:00:00') \n",
    "event_end_time = datetime.fromisoformat('2024-03-30T21:00:00') \n",
    "event_location = 'B01'\n",
    "event_host = 's711033123@gm.ntpu.edu.tw'\n",
    "event_tag = ['concert', 'piano', 'KingN', 'weekend']\n",
    "\n",
    "event_info = {\n",
    "    'event_name': event_name, \n",
    "    'event_bgn_time': event_bgn_time, \n",
    "    'event_end_time': event_end_time, \n",
    "    'event_location': event_location, \n",
    "    'event_host': event_host, \n",
    "    'tag': event_tag\n",
    "}\n",
    "\n",
    "build_event(**event_info)"
   ]
  },
  {
   "cell_type": "code",
   "execution_count": null,
   "metadata": {},
   "outputs": [],
   "source": []
  },
  {
   "cell_type": "code",
   "execution_count": null,
   "metadata": {},
   "outputs": [],
   "source": []
  }
 ],
 "metadata": {
  "kernelspec": {
   "display_name": "Python 3.8.18 ('google_calendar_api')",
   "language": "python",
   "name": "python3"
  },
  "language_info": {
   "codemirror_mode": {
    "name": "ipython",
    "version": 3
   },
   "file_extension": ".py",
   "mimetype": "text/x-python",
   "name": "python",
   "nbconvert_exporter": "python",
   "pygments_lexer": "ipython3",
   "version": "3.8.18"
  },
  "orig_nbformat": 4,
  "vscode": {
   "interpreter": {
    "hash": "2875425dddd01d916d885a43f6e77de69236d5ac73266a672ab18f3f31287cbf"
   }
  }
 },
 "nbformat": 4,
 "nbformat_minor": 2
}
